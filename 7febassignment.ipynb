{
 "cells": [
  {
   "cell_type": "code",
   "execution_count": null,
   "id": "bcbc7784-e01f-460a-8656-2eba5c869c27",
   "metadata": {},
   "outputs": [],
   "source": [
    "Filter odd numbers from the given list. \n",
    " "
   ]
  },
  {
   "cell_type": "code",
   "execution_count": 1,
   "id": "6bfd514f-4d0f-467b-bb2d-263dfa64d64f",
   "metadata": {},
   "outputs": [
    {
     "data": {
      "text/plain": [
       "[1, 3, 5, 7, 9]"
      ]
     },
     "execution_count": 1,
     "metadata": {},
     "output_type": "execute_result"
    }
   ],
   "source": [
    "l=[1,2,3,4,5,6,7,8,9,10]\n",
    "list(filter(lambda x:x%2!=0,l))"
   ]
  },
  {
   "cell_type": "code",
   "execution_count": null,
   "id": "871626b2-4b99-4120-b0fc-ba2a23915644",
   "metadata": {},
   "outputs": [],
   "source": [
    "Check if a given number is even "
   ]
  },
  {
   "cell_type": "code",
   "execution_count": 5,
   "id": "bac59a3d-3b47-4057-ba0b-d04bec71eafc",
   "metadata": {},
   "outputs": [
    {
     "name": "stdin",
     "output_type": "stream",
     "text": [
      "enter any no 8\n"
     ]
    },
    {
     "name": "stdout",
     "output_type": "stream",
     "text": [
      "even\n"
     ]
    }
   ],
   "source": [
    "n=int(input(\"enter any no\"))\n",
    "x=lambda n: n%2==0\n",
    "if x(n):\n",
    "    print(\"even\")\n",
    "else:\n",
    "    print(\"odd\")"
   ]
  },
  {
   "cell_type": "code",
   "execution_count": null,
   "id": "11167afb-cf75-4420-8259-d9e47b461c53",
   "metadata": {},
   "outputs": [],
   "source": [
    "squares of numbers from 1 to 10 "
   ]
  },
  {
   "cell_type": "code",
   "execution_count": 12,
   "id": "afeff11e-db3a-4037-b3db-70aa2daaf725",
   "metadata": {},
   "outputs": [
    {
     "name": "stdout",
     "output_type": "stream",
     "text": [
      "[1, 4, 9, 16, 25, 36, 49, 64, 81, 100]\n"
     ]
    }
   ],
   "source": [
    "square = lambda x: x**2\n",
    "l1= list(map(square, range(1, 11)))\n",
    "print(l1)\n"
   ]
  },
  {
   "cell_type": "code",
   "execution_count": null,
   "id": "3f0acbd3-fe69-4c05-9712-c1c75a4b7df6",
   "metadata": {},
   "outputs": [],
   "source": [
    "Find the  Find the cube root of numbers from 1 to 10 "
   ]
  },
  {
   "cell_type": "code",
   "execution_count": 18,
   "id": "8412603c-c57d-4b09-927e-05c8ae7479aa",
   "metadata": {},
   "outputs": [
    {
     "name": "stdout",
     "output_type": "stream",
     "text": [
      "[1, 8, 27, 64, 125, 216, 343, 512, 729, 1000]\n"
     ]
    }
   ],
   "source": [
    "cube= lambda x: x**3\n",
    "l1= list(map(cube, range(1, 11)))\n",
    "print(l1)\n"
   ]
  },
  {
   "cell_type": "code",
   "execution_count": null,
   "id": "ba2e05e8-d804-4d76-b2c1-a04b041cfea0",
   "metadata": {},
   "outputs": [],
   "source": [
    "Check if the string starts with a particular letter "
   ]
  },
  {
   "cell_type": "code",
   "execution_count": 27,
   "id": "947b8367-991b-4325-8e27-1a1f5285abaf",
   "metadata": {},
   "outputs": [
    {
     "name": "stdin",
     "output_type": "stream",
     "text": [
      "enter any string lion\n",
      "enter any alphabet l\n"
     ]
    },
    {
     "name": "stdout",
     "output_type": "stream",
     "text": [
      "True\n"
     ]
    }
   ],
   "source": [
    "s=input(\"enter any string\")\n",
    "l=input(\"enter any alphabet\")\n",
    "a= lambda s, l: s.startswith(l)\n",
    "result =a(s, l)\n",
    "print(result) \n"
   ]
  },
  {
   "cell_type": "code",
   "execution_count": null,
   "id": "8ffecfa0-4f07-4c88-9695-5c20412e9da7",
   "metadata": {},
   "outputs": [],
   "source": [
    "Sort a list of integers into positive and negative integers lists. \n",
    " [1,2,3,4,5,6,-1,-2,-3,-4,-5,0] "
   ]
  },
  {
   "cell_type": "code",
   "execution_count": 33,
   "id": "42b4c8f5-02fc-4fc8-90f5-1f77b5297cc3",
   "metadata": {},
   "outputs": [
    {
     "name": "stdout",
     "output_type": "stream",
     "text": [
      "[-1, -2, -3, -4, -5]\n",
      "[1, 2, 3, 4, 5, 6]\n"
     ]
    }
   ],
   "source": [
    "l=[1,2,3,4,5,6,-1,-2,-3,-4,-5,0] \n",
    "l1=list(filter(lambda x:x<0,l))\n",
    "l2=list(filter(lambda x:x>0,l))\n",
    "print(l1)\n",
    "print(l2)"
   ]
  },
  {
   "cell_type": "code",
   "execution_count": null,
   "id": "8d0fed49-46e7-4926-9357-f0e23ff8e043",
   "metadata": {},
   "outputs": [],
   "source": [
    "\n",
    " Sort a list of tuples having fruit names and their quantity. [(\"mango\",99),(\"orange\",80), (\"grapes\", 1000)  "
   ]
  },
  {
   "cell_type": "code",
   "execution_count": 37,
   "id": "38cee695-5212-4735-85eb-fcefa40f11fa",
   "metadata": {},
   "outputs": [
    {
     "name": "stdout",
     "output_type": "stream",
     "text": [
      "mango\n",
      "orange\n",
      "grapes\n"
     ]
    }
   ],
   "source": [
    "t= [(\"mango\",99),(\"orange\",80), (\"grapes\", 1000) ]\n",
    "for i in t:\n",
    "    print (i[0])"
   ]
  },
  {
   "cell_type": "code",
   "execution_count": 40,
   "id": "859c6692-040e-480a-a1bc-6b5b5ad27e1c",
   "metadata": {},
   "outputs": [
    {
     "name": "stdout",
     "output_type": "stream",
     "text": [
      "[('orange', 80), ('mango', 99), ('grapes', 1000)]\n"
     ]
    }
   ],
   "source": [
    "t= [(\"mango\", 99), (\"orange\", 80), (\"grapes\", 1000)]\n",
    "res = sorted(t,key=lambda x: x[1])\n",
    "print(res)"
   ]
  },
  {
   "cell_type": "code",
   "execution_count": null,
   "id": "1885c863-47bd-4e64-b459-8f96e05e5aca",
   "metadata": {},
   "outputs": [],
   "source": [
    "Q1. You are writing code for a company. The requirement of the company is that you create a python  \n",
    "function that will check whether the password entered by the user is correct or not. \n",
    "The function should  take the password as input and return the string “Valid Password”\n",
    "if the entered password follows the  below-given password guidelines else it should return “Invalid Password”. \n",
    "\n",
    "1. The Password should contain at least two uppercase letters and at least two lowercase letters.\n",
    "2. The Password should contain at least a number and three special characters. \n",
    "3. The length of the password should be 10 characters long. \n"
   ]
  },
  {
   "cell_type": "code",
   "execution_count": 42,
   "id": "c700e2f9-650a-4d11-89bd-4c1f585c1546",
   "metadata": {},
   "outputs": [
    {
     "name": "stdin",
     "output_type": "stream",
     "text": [
      "Enter your password:  s cjksabfia2\n"
     ]
    },
    {
     "name": "stdout",
     "output_type": "stream",
     "text": [
      "Invalid Password: At least two uppercase letters required.\n"
     ]
    }
   ],
   "source": [
    "def check_password(pass1):\n",
    "    u = sum(1 for char in pass1 if char.isupper())\n",
    "    if u < 2:\n",
    "        return \"Invalid Password: At least two uppercase letters required.\"\n",
    "\n",
    "    l = sum(1 for char in pass1 if char.islower())\n",
    "    if l< 2:\n",
    "        return \"Invalid Password: At least two lowercase letters required.\"\n",
    "\n",
    "    n= sum(1 for char in pass1 if char.isdigit())\n",
    "    if n < 1:\n",
    "        return \"Invalid Password: At least one number required.\"\n",
    "\n",
    "    special_count = sum(1 for char in pass1 if not char.isalnum())\n",
    "    if special_count < 3:\n",
    "        return \"Invalid Password: At least three special characters required.\"\n",
    "\n",
    "    if len(pass1) != 10:\n",
    "        return \"Invalid Password: Password length should be 10 characters.\"\n",
    "\n",
    "    return \"Valid Password\"\n",
    "\n",
    "pass1= input(\"Enter your password: \")\n",
    "print(check_password(pass1))"
   ]
  },
  {
   "cell_type": "code",
   "execution_count": null,
   "id": "4c98fd17-f28f-485c-ada6-0f7b192272d2",
   "metadata": {},
   "outputs": [],
   "source": []
  }
 ],
 "metadata": {
  "kernelspec": {
   "display_name": "Python 3 (ipykernel)",
   "language": "python",
   "name": "python3"
  },
  "language_info": {
   "codemirror_mode": {
    "name": "ipython",
    "version": 3
   },
   "file_extension": ".py",
   "mimetype": "text/x-python",
   "name": "python",
   "nbconvert_exporter": "python",
   "pygments_lexer": "ipython3",
   "version": "3.10.8"
  }
 },
 "nbformat": 4,
 "nbformat_minor": 5
}
